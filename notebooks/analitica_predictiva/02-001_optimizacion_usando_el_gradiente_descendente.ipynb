{
  "cells": [
    {
      "cell_type": "markdown",
      "metadata": {
        "id": "view-in-github",
        "colab_type": "text"
      },
      "source": [
        "<a href=\"https://colab.research.google.com/github/cloaizas/cloaizas.github.io/blob/master/notebooks/analitica_predictiva/02-001_optimizacion_usando_el_gradiente_descendente.ipynb\" target=\"_parent\"><img src=\"https://colab.research.google.com/assets/colab-badge.svg\" alt=\"Open In Colab\"/></a>"
      ]
    },
    {
      "cell_type": "markdown",
      "metadata": {
        "toc-hr-collapsed": false,
        "id": "ovo9KPVUWdQL"
      },
      "source": [
        "Optimización usando el gradiente descendente\n",
        "==="
      ]
    },
    {
      "cell_type": "code",
      "execution_count": 21,
      "metadata": {
        "id": "5ytgpurGWdQc",
        "outputId": "5978a06f-0cc5-4614-878a-ada5e02fe589",
        "colab": {
          "base_uri": "https://localhost:8080/"
        }
      },
      "outputs": [
        {
          "output_type": "stream",
          "name": "stdout",
          "text": [
            "   Iterations         x         y    f(x,y)\n",
            "0         100 -1.436412  2.070779  5.941728\n",
            "1         500 -1.203561  1.456364  4.861773\n",
            "2        1000 -0.807119  0.659530  3.272222\n",
            "3        2000  0.499842  0.247335  0.250787\n",
            "4        3000  0.761484  0.578762  0.057010\n"
          ]
        }
      ],
      "source": [
        "#\n",
        "# A partir del código suministrado, determine la solucion encontrada y el valor\n",
        "# de la función de Rosenbrock para 100, 500, 1000, 2000 y 3000 iteraciones \n",
        "# partiendo siempre del mismo punto de arranque con coordenadas x = -0.5 y\n",
        "# y = 3.5. Use pandas para construir la tabla e imprimirla (use print).\n",
        "#\n",
        "# Rta/\n",
        "#    Iterations         x         y    f(x,y)\n",
        "# 0         100 -1.436412  2.070779  5.941728\n",
        "# 1         500 -1.203561  1.456364  4.861773\n",
        "# 2        1000 -0.807119  0.659530  3.272222\n",
        "# 3        2000  0.499842  0.247335  0.250787\n",
        "# 4        3000  0.761484  0.578762  0.057010\n",
        "#\n",
        "\n",
        "import numpy as np\n",
        "import pandas as pd\n",
        "\n",
        "def f(x, y):\n",
        "    return 100 * (x ** 2 - y) ** 2 + (1 - x) ** 2\n",
        "\n",
        "def g(x, y):\n",
        "    gx = 400 * x * (x ** 2 - y) - 2 * (1 - x)\n",
        "    gy = -200 * (x ** 2 - y)\n",
        "    return (gx, gy)\n",
        "\n",
        "def improve(x, y, mu):\n",
        "    gx, gy = g(x, y)\n",
        "    x = x - mu * gx\n",
        "    y = y - mu * gy\n",
        "    return (x, y)\n",
        "# Punto de inicio\n",
        "x = -0.5\n",
        "y = +3.5\n",
        "\n",
        "# Almacena la historia de los puntos recorridos\n",
        "history_x = []\n",
        "history_y = []\n",
        "history_f = []\n",
        "\n",
        "# ---->>> Inserte su codigo aquí ---->>>\n",
        "\n",
        "gd = pd.DataFrame(columns= [\"Iterations\", \"x\", \"y\", \"f(x,y)\"])\n",
        "\n",
        "Iterations = [100,500,1000,2000,3000]\n",
        "\n",
        "for i in Iterations:\n",
        "   # Punto de inicio\n",
        "   x = -0.5\n",
        "   y = +3.5\n",
        "   for epoch in range(i):\n",
        "        x, y = improve(x, y, 0.001)      \n",
        "   history_x.append(x)\n",
        "   history_y.append(y)\n",
        "   history_f.append(f(x, y))\n",
        "\n",
        "gd[\"Iterations\"]= Iterations\n",
        "gd[\"x\"]= history_x\n",
        "gd[\"y\"]= history_y\n",
        "gd[\"f(x,y)\"] = history_f\n",
        "print(gd)\n",
        "  \n",
        "# ---->>> Evaluación ---->>>\n",
        "for epoch in range(100):\n",
        "    x, y = improve(x, y, 0.001)\n",
        "    history_x.append(x)\n",
        "    history_y.append(y)\n",
        "    history_f.append(f(x, y))\n",
        "\n",
        "\n"
      ]
    }
  ],
  "metadata": {
    "interpreter": {
      "hash": "31f2aee4e71d21fbe5cf8b01ff0e069b9275f58929596ceb00d14d90e3e16cd6"
    },
    "kernelspec": {
      "display_name": "Python 3",
      "language": "python",
      "name": "python3"
    },
    "language_info": {
      "codemirror_mode": {
        "name": "ipython",
        "version": 3
      },
      "file_extension": ".py",
      "mimetype": "text/x-python",
      "name": "python",
      "nbconvert_exporter": "python",
      "pygments_lexer": "ipython3",
      "version": "3.6.9"
    },
    "colab": {
      "name": "02-001_optimizacion_usando_el_gradiente_descendente.ipynb",
      "provenance": [],
      "include_colab_link": true
    }
  },
  "nbformat": 4,
  "nbformat_minor": 0
}